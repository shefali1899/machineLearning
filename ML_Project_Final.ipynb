{
 "cells": [
  {
   "cell_type": "code",
   "execution_count": 1,
   "metadata": {
    "collapsed": true
   },
   "outputs": [],
   "source": [
    "import pandas as pd\n",
    "import numpy as np\n",
    "import matplotlib\n",
    "import matplotlib.pyplot as plt\n",
    "from sklearn import preprocessing\n",
    "%matplotlib inline"
   ]
  },
  {
   "cell_type": "code",
   "execution_count": 2,
   "metadata": {},
   "outputs": [
    {
     "data": {
      "text/html": [
       "<div>\n",
       "<style scoped>\n",
       "    .dataframe tbody tr th:only-of-type {\n",
       "        vertical-align: middle;\n",
       "    }\n",
       "\n",
       "    .dataframe tbody tr th {\n",
       "        vertical-align: top;\n",
       "    }\n",
       "\n",
       "    .dataframe thead th {\n",
       "        text-align: right;\n",
       "    }\n",
       "</style>\n",
       "<table border=\"1\" class=\"dataframe\">\n",
       "  <thead>\n",
       "    <tr style=\"text-align: right;\">\n",
       "      <th></th>\n",
       "      <th>business_id</th>\n",
       "      <th>latitude</th>\n",
       "      <th>longitude</th>\n",
       "      <th>review_count</th>\n",
       "      <th>stars</th>\n",
       "      <th>min_dist_1</th>\n",
       "      <th>min_dist_2</th>\n",
       "      <th>min_dist_3</th>\n",
       "      <th>min_dist_4</th>\n",
       "      <th>min_dist_5</th>\n",
       "    </tr>\n",
       "  </thead>\n",
       "  <tbody>\n",
       "    <tr>\n",
       "      <th>0</th>\n",
       "      <td>INhHx6Q9r4DO8vcHfBhnJg</td>\n",
       "      <td>33.406317</td>\n",
       "      <td>-111.875830</td>\n",
       "      <td>3</td>\n",
       "      <td>3.0</td>\n",
       "      <td>1.062497</td>\n",
       "      <td>1.285939</td>\n",
       "      <td>1.287012</td>\n",
       "      <td>1.349482</td>\n",
       "      <td>1.797396</td>\n",
       "    </tr>\n",
       "    <tr>\n",
       "      <th>1</th>\n",
       "      <td>5tgjLnwBS84rg49-OAs0Ug</td>\n",
       "      <td>35.090196</td>\n",
       "      <td>-80.866242</td>\n",
       "      <td>4</td>\n",
       "      <td>3.0</td>\n",
       "      <td>0.087906</td>\n",
       "      <td>7.976932</td>\n",
       "      <td>7.976932</td>\n",
       "      <td>8.009776</td>\n",
       "      <td>8.805099</td>\n",
       "    </tr>\n",
       "    <tr>\n",
       "      <th>2</th>\n",
       "      <td>8ZpXbFWIY4uEnmOJMr6gyQ</td>\n",
       "      <td>43.655321</td>\n",
       "      <td>-79.413309</td>\n",
       "      <td>11</td>\n",
       "      <td>4.0</td>\n",
       "      <td>65.142094</td>\n",
       "      <td>70.216318</td>\n",
       "      <td>71.249509</td>\n",
       "      <td>71.854464</td>\n",
       "      <td>82.740241</td>\n",
       "    </tr>\n",
       "    <tr>\n",
       "      <th>3</th>\n",
       "      <td>NnxwkiBvSSyKeFiez0DDcQ</td>\n",
       "      <td>36.123915</td>\n",
       "      <td>-115.167972</td>\n",
       "      <td>86</td>\n",
       "      <td>4.0</td>\n",
       "      <td>2.425172</td>\n",
       "      <td>2.841331</td>\n",
       "      <td>3.058603</td>\n",
       "      <td>4.185926</td>\n",
       "      <td>4.680326</td>\n",
       "    </tr>\n",
       "    <tr>\n",
       "      <th>4</th>\n",
       "      <td>j1fqqRf2Aa6H-igmGJ4eUw</td>\n",
       "      <td>33.390177</td>\n",
       "      <td>-111.864319</td>\n",
       "      <td>93</td>\n",
       "      <td>4.0</td>\n",
       "      <td>0.313484</td>\n",
       "      <td>0.645488</td>\n",
       "      <td>1.063968</td>\n",
       "      <td>1.181812</td>\n",
       "      <td>1.608256</td>\n",
       "    </tr>\n",
       "    <tr>\n",
       "      <th>5</th>\n",
       "      <td>8Z9kijurkcRurq3q3w7fPQ</td>\n",
       "      <td>33.641795</td>\n",
       "      <td>-111.994984</td>\n",
       "      <td>15</td>\n",
       "      <td>4.0</td>\n",
       "      <td>1.794694</td>\n",
       "      <td>5.933080</td>\n",
       "      <td>6.828799</td>\n",
       "      <td>7.386292</td>\n",
       "      <td>11.401903</td>\n",
       "    </tr>\n",
       "    <tr>\n",
       "      <th>6</th>\n",
       "      <td>25Ofn9RSdr8e0P2eyd-Q_A</td>\n",
       "      <td>43.556821</td>\n",
       "      <td>-79.701592</td>\n",
       "      <td>5</td>\n",
       "      <td>4.5</td>\n",
       "      <td>71.266242</td>\n",
       "      <td>76.761416</td>\n",
       "      <td>80.882304</td>\n",
       "      <td>81.645669</td>\n",
       "      <td>89.596563</td>\n",
       "    </tr>\n",
       "    <tr>\n",
       "      <th>7</th>\n",
       "      <td>efvSrLjCsOLcupG0loDAWQ</td>\n",
       "      <td>43.682376</td>\n",
       "      <td>-79.767930</td>\n",
       "      <td>3</td>\n",
       "      <td>2.5</td>\n",
       "      <td>84.708113</td>\n",
       "      <td>90.166251</td>\n",
       "      <td>93.509081</td>\n",
       "      <td>94.233192</td>\n",
       "      <td>103.041685</td>\n",
       "    </tr>\n",
       "    <tr>\n",
       "      <th>8</th>\n",
       "      <td>Baq-IZuaeBy_KCpC5KA92A</td>\n",
       "      <td>36.150025</td>\n",
       "      <td>-115.333047</td>\n",
       "      <td>3</td>\n",
       "      <td>1.0</td>\n",
       "      <td>2.936324</td>\n",
       "      <td>2.966008</td>\n",
       "      <td>3.289443</td>\n",
       "      <td>4.277668</td>\n",
       "      <td>4.605887</td>\n",
       "    </tr>\n",
       "    <tr>\n",
       "      <th>9</th>\n",
       "      <td>oEn9czSikd5SErn7xsw8yw</td>\n",
       "      <td>43.647867</td>\n",
       "      <td>-79.400216</td>\n",
       "      <td>19</td>\n",
       "      <td>4.5</td>\n",
       "      <td>63.916788</td>\n",
       "      <td>68.974130</td>\n",
       "      <td>69.948808</td>\n",
       "      <td>70.550960</td>\n",
       "      <td>81.478684</td>\n",
       "    </tr>\n",
       "  </tbody>\n",
       "</table>\n",
       "</div>"
      ],
      "text/plain": [
       "              business_id   latitude   longitude  review_count  stars  \\\n",
       "0  INhHx6Q9r4DO8vcHfBhnJg  33.406317 -111.875830             3    3.0   \n",
       "1  5tgjLnwBS84rg49-OAs0Ug  35.090196  -80.866242             4    3.0   \n",
       "2  8ZpXbFWIY4uEnmOJMr6gyQ  43.655321  -79.413309            11    4.0   \n",
       "3  NnxwkiBvSSyKeFiez0DDcQ  36.123915 -115.167972            86    4.0   \n",
       "4  j1fqqRf2Aa6H-igmGJ4eUw  33.390177 -111.864319            93    4.0   \n",
       "5  8Z9kijurkcRurq3q3w7fPQ  33.641795 -111.994984            15    4.0   \n",
       "6  25Ofn9RSdr8e0P2eyd-Q_A  43.556821  -79.701592             5    4.5   \n",
       "7  efvSrLjCsOLcupG0loDAWQ  43.682376  -79.767930             3    2.5   \n",
       "8  Baq-IZuaeBy_KCpC5KA92A  36.150025 -115.333047             3    1.0   \n",
       "9  oEn9czSikd5SErn7xsw8yw  43.647867  -79.400216            19    4.5   \n",
       "\n",
       "   min_dist_1  min_dist_2  min_dist_3  min_dist_4  min_dist_5  \n",
       "0    1.062497    1.285939    1.287012    1.349482    1.797396  \n",
       "1    0.087906    7.976932    7.976932    8.009776    8.805099  \n",
       "2   65.142094   70.216318   71.249509   71.854464   82.740241  \n",
       "3    2.425172    2.841331    3.058603    4.185926    4.680326  \n",
       "4    0.313484    0.645488    1.063968    1.181812    1.608256  \n",
       "5    1.794694    5.933080    6.828799    7.386292   11.401903  \n",
       "6   71.266242   76.761416   80.882304   81.645669   89.596563  \n",
       "7   84.708113   90.166251   93.509081   94.233192  103.041685  \n",
       "8    2.936324    2.966008    3.289443    4.277668    4.605887  \n",
       "9   63.916788   68.974130   69.948808   70.550960   81.478684  "
      ]
     },
     "execution_count": 2,
     "metadata": {},
     "output_type": "execute_result"
    }
   ],
   "source": [
    "df = pd.read_csv('rest_sample.csv',header = 0)\n",
    "df = df.drop(\"Unnamed: 0\",axis=1)\n",
    "df.head(10)"
   ]
  },
  {
   "cell_type": "code",
   "execution_count": 3,
   "metadata": {
    "collapsed": true
   },
   "outputs": [],
   "source": [
    "df[\"rating_power\"] = df.apply(lambda row: (row[\"review_count\"]*row[\"stars\"]),axis=1)"
   ]
  },
  {
   "cell_type": "code",
   "execution_count": 4,
   "metadata": {},
   "outputs": [
    {
     "name": "stderr",
     "output_type": "stream",
     "text": [
      "/home/sl4651/anaconda3/lib/python3.6/site-packages/ipykernel_launcher.py:3: FutureWarning: reshape is deprecated and will raise in a subsequent release. Please use .values.reshape(...) instead\n",
      "  This is separate from the ipykernel package so we can avoid doing imports until\n"
     ]
    },
    {
     "data": {
      "text/html": [
       "<div>\n",
       "<style scoped>\n",
       "    .dataframe tbody tr th:only-of-type {\n",
       "        vertical-align: middle;\n",
       "    }\n",
       "\n",
       "    .dataframe tbody tr th {\n",
       "        vertical-align: top;\n",
       "    }\n",
       "\n",
       "    .dataframe thead th {\n",
       "        text-align: right;\n",
       "    }\n",
       "</style>\n",
       "<table border=\"1\" class=\"dataframe\">\n",
       "  <thead>\n",
       "    <tr style=\"text-align: right;\">\n",
       "      <th></th>\n",
       "      <th>business_id</th>\n",
       "      <th>latitude</th>\n",
       "      <th>longitude</th>\n",
       "      <th>review_count</th>\n",
       "      <th>stars</th>\n",
       "      <th>min_dist_1</th>\n",
       "      <th>min_dist_2</th>\n",
       "      <th>min_dist_3</th>\n",
       "      <th>min_dist_4</th>\n",
       "      <th>min_dist_5</th>\n",
       "      <th>rating_power</th>\n",
       "      <th>rating_norm</th>\n",
       "    </tr>\n",
       "  </thead>\n",
       "  <tbody>\n",
       "    <tr>\n",
       "      <th>0</th>\n",
       "      <td>INhHx6Q9r4DO8vcHfBhnJg</td>\n",
       "      <td>33.406317</td>\n",
       "      <td>-111.875830</td>\n",
       "      <td>3</td>\n",
       "      <td>3.0</td>\n",
       "      <td>1.062497</td>\n",
       "      <td>1.285939</td>\n",
       "      <td>1.287012</td>\n",
       "      <td>1.349482</td>\n",
       "      <td>1.797396</td>\n",
       "      <td>9.0</td>\n",
       "      <td>0.003378</td>\n",
       "    </tr>\n",
       "    <tr>\n",
       "      <th>1</th>\n",
       "      <td>5tgjLnwBS84rg49-OAs0Ug</td>\n",
       "      <td>35.090196</td>\n",
       "      <td>-80.866242</td>\n",
       "      <td>4</td>\n",
       "      <td>3.0</td>\n",
       "      <td>0.087906</td>\n",
       "      <td>7.976932</td>\n",
       "      <td>7.976932</td>\n",
       "      <td>8.009776</td>\n",
       "      <td>8.805099</td>\n",
       "      <td>12.0</td>\n",
       "      <td>0.005068</td>\n",
       "    </tr>\n",
       "    <tr>\n",
       "      <th>2</th>\n",
       "      <td>8ZpXbFWIY4uEnmOJMr6gyQ</td>\n",
       "      <td>43.655321</td>\n",
       "      <td>-79.413309</td>\n",
       "      <td>11</td>\n",
       "      <td>4.0</td>\n",
       "      <td>65.142094</td>\n",
       "      <td>70.216318</td>\n",
       "      <td>71.249509</td>\n",
       "      <td>71.854464</td>\n",
       "      <td>82.740241</td>\n",
       "      <td>44.0</td>\n",
       "      <td>0.023086</td>\n",
       "    </tr>\n",
       "    <tr>\n",
       "      <th>3</th>\n",
       "      <td>NnxwkiBvSSyKeFiez0DDcQ</td>\n",
       "      <td>36.123915</td>\n",
       "      <td>-115.167972</td>\n",
       "      <td>86</td>\n",
       "      <td>4.0</td>\n",
       "      <td>2.425172</td>\n",
       "      <td>2.841331</td>\n",
       "      <td>3.058603</td>\n",
       "      <td>4.185926</td>\n",
       "      <td>4.680326</td>\n",
       "      <td>344.0</td>\n",
       "      <td>0.192005</td>\n",
       "    </tr>\n",
       "    <tr>\n",
       "      <th>4</th>\n",
       "      <td>j1fqqRf2Aa6H-igmGJ4eUw</td>\n",
       "      <td>33.390177</td>\n",
       "      <td>-111.864319</td>\n",
       "      <td>93</td>\n",
       "      <td>4.0</td>\n",
       "      <td>0.313484</td>\n",
       "      <td>0.645488</td>\n",
       "      <td>1.063968</td>\n",
       "      <td>1.181812</td>\n",
       "      <td>1.608256</td>\n",
       "      <td>372.0</td>\n",
       "      <td>0.207770</td>\n",
       "    </tr>\n",
       "    <tr>\n",
       "      <th>5</th>\n",
       "      <td>8Z9kijurkcRurq3q3w7fPQ</td>\n",
       "      <td>33.641795</td>\n",
       "      <td>-111.994984</td>\n",
       "      <td>15</td>\n",
       "      <td>4.0</td>\n",
       "      <td>1.794694</td>\n",
       "      <td>5.933080</td>\n",
       "      <td>6.828799</td>\n",
       "      <td>7.386292</td>\n",
       "      <td>11.401903</td>\n",
       "      <td>60.0</td>\n",
       "      <td>0.032095</td>\n",
       "    </tr>\n",
       "  </tbody>\n",
       "</table>\n",
       "</div>"
      ],
      "text/plain": [
       "              business_id   latitude   longitude  review_count  stars  \\\n",
       "0  INhHx6Q9r4DO8vcHfBhnJg  33.406317 -111.875830             3    3.0   \n",
       "1  5tgjLnwBS84rg49-OAs0Ug  35.090196  -80.866242             4    3.0   \n",
       "2  8ZpXbFWIY4uEnmOJMr6gyQ  43.655321  -79.413309            11    4.0   \n",
       "3  NnxwkiBvSSyKeFiez0DDcQ  36.123915 -115.167972            86    4.0   \n",
       "4  j1fqqRf2Aa6H-igmGJ4eUw  33.390177 -111.864319            93    4.0   \n",
       "5  8Z9kijurkcRurq3q3w7fPQ  33.641795 -111.994984            15    4.0   \n",
       "\n",
       "   min_dist_1  min_dist_2  min_dist_3  min_dist_4  min_dist_5  rating_power  \\\n",
       "0    1.062497    1.285939    1.287012    1.349482    1.797396           9.0   \n",
       "1    0.087906    7.976932    7.976932    8.009776    8.805099          12.0   \n",
       "2   65.142094   70.216318   71.249509   71.854464   82.740241          44.0   \n",
       "3    2.425172    2.841331    3.058603    4.185926    4.680326         344.0   \n",
       "4    0.313484    0.645488    1.063968    1.181812    1.608256         372.0   \n",
       "5    1.794694    5.933080    6.828799    7.386292   11.401903          60.0   \n",
       "\n",
       "   rating_norm  \n",
       "0     0.003378  \n",
       "1     0.005068  \n",
       "2     0.023086  \n",
       "3     0.192005  \n",
       "4     0.207770  \n",
       "5     0.032095  "
      ]
     },
     "execution_count": 4,
     "metadata": {},
     "output_type": "execute_result"
    }
   ],
   "source": [
    "#normalizing the stars and review counts\n",
    "x = df.rating_power \n",
    "x_norm = preprocessing.MinMaxScaler().fit_transform(x.reshape(-1,1))\n",
    "df[\"rating_norm\"] = x_norm*5\n",
    "df.head(6)"
   ]
  },
  {
   "cell_type": "code",
   "execution_count": 5,
   "metadata": {},
   "outputs": [
    {
     "data": {
      "text/plain": [
       "[<matplotlib.lines.Line2D at 0x7f57501b7630>,\n",
       " <matplotlib.lines.Line2D at 0x7f57150a2940>,\n",
       " <matplotlib.lines.Line2D at 0x7f57150a2b38>]"
      ]
     },
     "execution_count": 5,
     "metadata": {},
     "output_type": "execute_result"
    },
    {
     "data": {
      "image/png": "[encoded data removed]",
      "text/plain": [
       "<matplotlib.figure.Figure at 0x7f574cd5b400>"
      ]
     },
     "metadata": {},
     "output_type": "display_data"
    }
   ],
   "source": [
    "y0 = np.array(df[\"rating_norm\"])\n",
    "x0 = np.array(df[[\"min_dist_1\",\"min_dist_2\", \"min_dist_3\"]])\n",
    "plt.xlabel(\"Distance from nearest college campus (km)\")\n",
    "plt.ylabel(\"Restaurant ratings (out of 5)\")\n",
    "plt.xlim()\n",
    "plt.plot(x0, y0, 'o')\n"
   ]
  },
  {
   "cell_type": "code",
   "execution_count": 6,
   "metadata": {},
   "outputs": [],
   "source": [
    "#splitting the data in training and testing\n",
    "y0 = np.array(df[\"rating_norm\"])\n",
    "x0 = np.array(df[[\"min_dist_1\",\"min_dist_2\",\"min_dist_3\"]])\n",
    "nt = x0.shape[0]\n",
    "ns_train = int(nt*0.7)\n",
    "ns_test = nt - ns_train\n",
    "xtr = x0[:ns_train,:]\n",
    "ytr = y0[:ns_train]\n",
    "xts = x0[ns_train:,:]\n",
    "yts = y0[ns_train:]\n"
   ]
  },
  {
   "cell_type": "code",
   "execution_count": 7,
   "metadata": {},
   "outputs": [
    {
     "data": {
      "text/plain": [
       "LinearRegression(copy_X=True, fit_intercept=True, n_jobs=1, normalize=False)"
      ]
     },
     "execution_count": 7,
     "metadata": {},
     "output_type": "execute_result"
    }
   ],
   "source": [
    "#using linear regression model \n",
    "from sklearn import linear_model\n",
    "regr = linear_model.LinearRegression()\n",
    "regr.fit(xtr,ytr)"
   ]
  },
  {
   "cell_type": "code",
   "execution_count": 20,
   "metadata": {},
   "outputs": [
    {
     "data": {
      "text/plain": [
       "0.0"
      ]
     },
     "execution_count": 20,
     "metadata": {},
     "output_type": "execute_result"
    },
    {
     "data": {
      "image/png": "[encoded data removed]",
      "text/plain": [
       "<matplotlib.figure.Figure at 0x7f57104826a0>"
      ]
     },
     "metadata": {},
     "output_type": "display_data"
    }
   ],
   "source": [
    "ytr_pred = regr.predict(xts)\n",
    "plt.plot(yts)\n",
    "plt.plot(ytr_pred)\n",
    "plt.legend(['actual', 'predicted'])"
   ]
  },
  {
   "cell_type": "code",
   "execution_count": 21,
   "metadata": {},
   "outputs": [
    {
     "data": {
      "text/plain": [
       "<matplotlib.legend.Legend at 0x7f57102be5c0>"
      ]
     },
     "execution_count": 21,
     "metadata": {},
     "output_type": "execute_result"
    },
    {
     "data": {
      "image/png": "[encoded data removed]",
      "text/plain": [
       "<matplotlib.figure.Figure at 0x7f57104705f8>"
      ]
     },
     "metadata": {},
     "output_type": "display_data"
    }
   ],
   "source": [
    "#predicting stars instead of rating_norm\n",
    "y0 = np.array(df[\"stars\"])\n",
    "nt = x0.shape[0]\n",
    "ns_train = int(nt*0.7)\n",
    "ns_test = nt - ns_train\n",
    "xtr = x0[:ns_train,:]\n",
    "ytr = y0[:ns_train]\n",
    "xts = x0[ns_train:,:]\n",
    "yts = y0[ns_train:]\n",
    "regr = linear_model.LinearRegression()\n",
    "regr.fit(xtr,ytr)\n",
    "ytrain_pred = regr.predict(xts)\n",
    "plt.plot(yts)\n",
    "plt.plot(ytrain_pred)\n",
    "plt.xlim()\n",
    "plt.legend(['actual', 'predicted'])"
   ]
  },
  {
   "cell_type": "code",
   "execution_count": null,
   "metadata": {
    "collapsed": true
   },
   "outputs": [],
   "source": []
  },
  {
   "cell_type": "code",
   "execution_count": null,
   "metadata": {
    "collapsed": true
   },
   "outputs": [],
   "source": []
  }
 ],
 "metadata": {
  "kernelspec": {
   "display_name": "Python 3",
   "language": "python",
   "name": "python3"
  },
  "language_info": {
   "codemirror_mode": {
    "name": "ipython",
    "version": 3
   },
   "file_extension": ".py",
   "mimetype": "text/x-python",
   "name": "python",
   "nbconvert_exporter": "python",
   "pygments_lexer": "ipython3",
   "version": "3.6.1"
  }
 },
 "nbformat": 4,
 "nbformat_minor": 2
}
